{
 "cells": [
  {
   "cell_type": "markdown",
   "metadata": {},
   "source": [
    "## Лабораторная 4: восстановление плотности распределения"
   ]
  },
  {
   "cell_type": "markdown",
   "metadata": {},
   "source": [
    "Данными в этом задании являются измерения некоторых проверочных параметров на конвейерах  сборки оборудования Bosh (см. [конкурс](https://www.kaggle.com/c/bosch-production-line-performance) «Bosch Production Line Performance» на Kaggle). \n",
    "\n",
    "Все исходные данные Bosh не помещаются в оперативную память компьютера, поэтому в файле `data.csv` — лишь некоторые признаки. Прочтите данные из файла `data.csv`. Целевым признаком здесь является `Response` — наличие брака в оборудовании. "
   ]
  },
  {
   "cell_type": "code",
   "execution_count": 1,
   "metadata": {},
   "outputs": [],
   "source": [
    "import pandas as pd"
   ]
  },
  {
   "cell_type": "code",
   "execution_count": 2,
   "metadata": {},
   "outputs": [
    {
     "data": {
      "text/html": [
       "<div>\n",
       "<style scoped>\n",
       "    .dataframe tbody tr th:only-of-type {\n",
       "        vertical-align: middle;\n",
       "    }\n",
       "\n",
       "    .dataframe tbody tr th {\n",
       "        vertical-align: top;\n",
       "    }\n",
       "\n",
       "    .dataframe thead th {\n",
       "        text-align: right;\n",
       "    }\n",
       "</style>\n",
       "<table border=\"1\" class=\"dataframe\">\n",
       "  <thead>\n",
       "    <tr style=\"text-align: right;\">\n",
       "      <th></th>\n",
       "      <th>L1_S24_F1844</th>\n",
       "      <th>L1_S24_F1846</th>\n",
       "      <th>Response</th>\n",
       "    </tr>\n",
       "  </thead>\n",
       "  <tbody>\n",
       "    <tr>\n",
       "      <th>0</th>\n",
       "      <td>-0.123</td>\n",
       "      <td>0.111</td>\n",
       "      <td>0</td>\n",
       "    </tr>\n",
       "    <tr>\n",
       "      <th>1</th>\n",
       "      <td>-0.269</td>\n",
       "      <td>0.175</td>\n",
       "      <td>0</td>\n",
       "    </tr>\n",
       "    <tr>\n",
       "      <th>2</th>\n",
       "      <td>-0.058</td>\n",
       "      <td>0.141</td>\n",
       "      <td>0</td>\n",
       "    </tr>\n",
       "    <tr>\n",
       "      <th>3</th>\n",
       "      <td>0.136</td>\n",
       "      <td>-0.145</td>\n",
       "      <td>0</td>\n",
       "    </tr>\n",
       "    <tr>\n",
       "      <th>4</th>\n",
       "      <td>0.045</td>\n",
       "      <td>-0.094</td>\n",
       "      <td>0</td>\n",
       "    </tr>\n",
       "    <tr>\n",
       "      <th>...</th>\n",
       "      <td>...</td>\n",
       "      <td>...</td>\n",
       "      <td>...</td>\n",
       "    </tr>\n",
       "    <tr>\n",
       "      <th>54724</th>\n",
       "      <td>0.145</td>\n",
       "      <td>-0.159</td>\n",
       "      <td>0</td>\n",
       "    </tr>\n",
       "    <tr>\n",
       "      <th>54725</th>\n",
       "      <td>-0.233</td>\n",
       "      <td>0.189</td>\n",
       "      <td>0</td>\n",
       "    </tr>\n",
       "    <tr>\n",
       "      <th>54726</th>\n",
       "      <td>0.013</td>\n",
       "      <td>0.134</td>\n",
       "      <td>0</td>\n",
       "    </tr>\n",
       "    <tr>\n",
       "      <th>54727</th>\n",
       "      <td>0.097</td>\n",
       "      <td>-0.155</td>\n",
       "      <td>0</td>\n",
       "    </tr>\n",
       "    <tr>\n",
       "      <th>54728</th>\n",
       "      <td>0.020</td>\n",
       "      <td>-0.116</td>\n",
       "      <td>0</td>\n",
       "    </tr>\n",
       "  </tbody>\n",
       "</table>\n",
       "<p>54729 rows × 3 columns</p>\n",
       "</div>"
      ],
      "text/plain": [
       "       L1_S24_F1844  L1_S24_F1846  Response\n",
       "0            -0.123         0.111         0\n",
       "1            -0.269         0.175         0\n",
       "2            -0.058         0.141         0\n",
       "3             0.136        -0.145         0\n",
       "4             0.045        -0.094         0\n",
       "...             ...           ...       ...\n",
       "54724         0.145        -0.159         0\n",
       "54725        -0.233         0.189         0\n",
       "54726         0.013         0.134         0\n",
       "54727         0.097        -0.155         0\n",
       "54728         0.020        -0.116         0\n",
       "\n",
       "[54729 rows x 3 columns]"
      ]
     },
     "execution_count": 2,
     "metadata": {},
     "output_type": "execute_result"
    }
   ],
   "source": [
    "DFrame = pd.read_csv('data.csv')\n",
    "DFrame"
   ]
  },
  {
   "cell_type": "markdown",
   "metadata": {},
   "source": [
    "## 1 \n",
    "Постройте на одном графике два приближения к плотности распределения признака `L1_S24_F1846` для `Response = 0` и для `Response = 1`, используя одно из следующих ядер (номер ядра выберите по формуле: `(n mod 6) + 1`, где `n` — ваш номер в списке группы):\n",
    "\n",
    "    1.\tкусочно-постоянное (прямоугольное) -  tophat\n",
    "    2.\tгауссовское -  gaussian\n",
    "    3.\tлинейное (треугольник) -  linear\n",
    "    4.\tкосинусоидальное -  cosine\n",
    "    5.\tквадратичное (Епанечникова) -  epanechnikov\n",
    "    6.\tэкспоненциальное -  exponential\n"
   ]
  },
  {
   "cell_type": "code",
   "execution_count": 3,
   "metadata": {},
   "outputs": [],
   "source": [
    "from sklearn.neighbors import KernelDensity\n",
    "import numpy as np\n",
    "\n",
    "import matplotlib.pyplot as plt"
   ]
  },
  {
   "cell_type": "markdown",
   "metadata": {},
   "source": [
    "*Help:*\n",
    "\n",
    "    i0 = data['Response'] == 0\n",
    "    kde0 = KernelDensity(kernel='gaussian', bandwidth=0.1).fit(data.loc[i0, 'L1_S24_F1846'].values.reshape(-1, 1))\n",
    "    X_plot = np.linspace(-1, 1, 1000).reshape(-1, 1)\n",
    "    Dens0 = np.exp(kde0.score_samples(X_plot))  # score_samples возвращает логарифм плотности"
   ]
  },
  {
   "cell_type": "code",
   "execution_count": 4,
   "metadata": {
    "scrolled": true
   },
   "outputs": [
    {
     "data": {
      "image/png": "[encoded data removed]",
      "text/plain": [
       "<Figure size 640x480 with 1 Axes>"
      ]
     },
     "metadata": {},
     "output_type": "display_data"
    }
   ],
   "source": [
    "# выборка только строк с Response = 0 или 1\n",
    "data01 = DFrame[DFrame['Response'].isin([0,1])]\n",
    "# отделение значений L1_S24_F1846 для каждой группы\n",
    "l1_s24_f1846_0 = data01[data01['Response']==0]['L1_S24_F1846'].values\n",
    "l1_s24_f1846_1 = data01[data01['Response']==1]['L1_S24_F1846'].values\n",
    "\n",
    "# создание объектов KernelDensity\n",
    "kde_0 = KernelDensity(kernel='tophat', bandwidth=0.5)\n",
    "kde_1 = KernelDensity(kernel='tophat', bandwidth=0.5)\n",
    "\n",
    "# обучение моделей на соответствующих данных\n",
    "kde_0.fit(l1_s24_f1846_0.reshape(-1, 1))\n",
    "kde_1.fit(l1_s24_f1846_1.reshape(-1, 1))\n",
    "\n",
    "# массив значений признака, на котором оцениваем плотность\n",
    "x = np.linspace(-0.5, 0.5, 1000).reshape(-1, 1)\n",
    "\n",
    "# оценка плотности распределения для каждой группы\n",
    "log_dens_0 = kde_0.score_samples(x)\n",
    "log_dens_1 = kde_1.score_samples(x)\n",
    "\n",
    "# построение графика\n",
    "fig, ax = plt.subplots()\n",
    "ax.plot(x, np.exp(log_dens_0), '-', label='Response = 0')\n",
    "ax.plot(x, np.exp(log_dens_1), '-', label='Response = 1')\n",
    "ax.legend(loc='best')\n",
    "ax.set_xlabel('L1_S24_F1846')\n",
    "ax.set_ylabel('Плотность распределения')\n",
    "plt.show()\n"
   ]
  },
  {
   "cell_type": "markdown",
   "metadata": {},
   "source": [
    "Ответьте в комментариях на вопрос: является ли выборка хорошо разделимой по признаку  `L1_S24_F1846`?"
   ]
  },
  {
   "cell_type": "markdown",
   "metadata": {},
   "source": [
    "На основе построенных графиков приближения к плотности распределения признака L1_S24_F1846 для Response = 0 и для Response = 1, можно сделать вывод, что выборка не является хорошо разделимой по этому признаку. Распределения значений этого признака для обоих классов довольно схожи, что означает, что данный признак не может быть использован в качестве определяющего при построении модели для задачи бинарной классификации."
   ]
  },
  {
   "cell_type": "markdown",
   "metadata": {},
   "source": [
    "## 2"
   ]
  },
  {
   "cell_type": "markdown",
   "metadata": {},
   "source": [
    "Разбейте выборку `data` на две равные части: тренировочную `dataTrain` и проверочную `dataTest`. "
   ]
  },
  {
   "cell_type": "code",
   "execution_count": 5,
   "metadata": {},
   "outputs": [],
   "source": [
    "dataTrain = DFrame.loc[0:DFrame.shape[0] / 2, ].reset_index(drop=True)\n",
    "dataTest = DFrame.loc[DFrame.shape[0] / 2:DFrame.shape[0], ].reset_index(drop=True)"
   ]
  },
  {
   "cell_type": "markdown",
   "metadata": {},
   "source": [
    "Пользуясь кросс-валидацией, подберите **для каждого класса `Response` (`r=0` и `r=1`)** значение ширины ядра `bandwidth`, при котором логарифм правдоподобия максимален на проверочной выборке.\n",
    "\n",
    "*Help:*\n",
    "\n",
    "    r = 0\n",
    "    kde0 = KernelDensity(kernel='gaussian', bandwidth=0.05)\n",
    "    kde0.fit(dataTrain.loc[dataTrain['Response']==r, 'L1_S24_F1846'].values.reshape(-1, 1))\n",
    "    logProbability0 = kde0.score_samples(dataTest.loc[dataTest['Response']==r, 'L1_S24_F1846'].values.reshape(-1, 1))\n",
    "    logProbability0[np.isinf(logProbability0)] = -100 # заменяем -бесконечность\n",
    "    logLikehood0 = logProbability0.sum()\n",
    "    print(logLikehood0)"
   ]
  },
  {
   "cell_type": "code",
   "execution_count": null,
   "metadata": {},
   "outputs": [
    {
     "name": "stderr",
     "output_type": "stream",
     "text": [
      "\r",
      "Training models:   0%|                                                                           | 0/2 [00:00<?, ?it/s]"
     ]
    }
   ],
   "source": [
    "from sklearn.model_selection import GridSearchCV\n",
    "from tqdm import tqdm\n",
    "\n",
    "# Создаем объект для оценки плотности распределения\n",
    "kde = KernelDensity()\n",
    "\n",
    "# Определяем сетку параметров, для которых будем подбирать лучшее значение\n",
    "params = {'bandwidth': np.logspace(-1, 1, 20)}\n",
    "\n",
    "# Разделяем тренировочную выборку на классы Response\n",
    "dataTrain_r0 = dataTrain[dataTrain['Response'] == 0]['L1_S24_F1846'].values.reshape(-1, 1)\n",
    "dataTrain_r1 = dataTrain[dataTrain['Response'] == 1]['L1_S24_F1846'].values.reshape(-1, 1)\n",
    "\n",
    "# Создаем объект для подбора параметров на тестовой выборке\n",
    "gridSearch_r0 = GridSearchCV(kde, params, cv=5)\n",
    "gridSearch_r1 = GridSearchCV(kde, params, cv=5)\n",
    "\n",
    "# Обучаем модель и находим оптимальное значение ширины ядра для каждого класса\n",
    "kde0 = None\n",
    "kde1 = None\n",
    "with tqdm(total=2, desc='Training models') as progress_bar:\n",
    "    for i, (gridSearch, dataTrain) in enumerate([(gridSearch_r0, dataTrain_r0), (gridSearch_r1, dataTrain_r1)]):\n",
    "        gridSearch.fit(dataTrain)\n"
   ]
  },
  {
   "cell_type": "markdown",
   "metadata": {},
   "source": [
    "### 3"
   ]
  },
  {
   "cell_type": "markdown",
   "metadata": {},
   "source": [
    "Для найденных наилучших `bandwidth` вычислите `p(x|0)` и `p(x|1)` для тестовой выборки. "
   ]
  },
  {
   "cell_type": "code",
   "execution_count": null,
   "metadata": {},
   "outputs": [],
   "source": [
    "predictionProbXafter0 = np.exp(kde0.score_samples(dataTest['L1_S24_F1846'].values.reshape(-1, 1)))\n",
    "predictionProbXafter1 = np.exp(kde1.score_samples(dataTest['L1_S24_F1846'].values.reshape(-1, 1)))"
   ]
  },
  {
   "cell_type": "markdown",
   "metadata": {},
   "source": [
    "По формуле Байеса найдите затем `p(0|x)` и `p(1|x)`. Отсортируйте все объекты тестовой выборки по возрастанию предсказанной вероятности `p(1|x)`, выведите на экран вероятности для последних 10 объектов и рассчитайте количество бракованных деталей среди последних 100 объектов в отсортированном ряду.\n",
    "\n",
    "*Help:*\n",
    "    \n",
    "    ind = np.argsort(predictionProb1afterX) - сортировка, возвращающая индексы элементов\n",
    "    print(predictionProb1afterX[ind[-10:]]) - вывод последних 10 элементов\n",
    "    print(sum(dataTest.loc[ind[-100:],'Response'])) - количество бракованных среди 100 с максимальной вероятностью брака"
   ]
  },
  {
   "cell_type": "code",
   "execution_count": null,
   "metadata": {},
   "outputs": [],
   "source": [
    "from sklearn.model_selection import train_test_split\n",
    "\n",
    "# Выделяем значения признака L1_S24_F1846 для класса Response=0\n",
    "x0 = dataTrain[dataTrain['Response'] == 0]['L1_S24_F1846'].values.reshape(-1, 1)\n",
    "\n",
    "# Подбираем наилучшее значение ширины ядра для класса Response=0\n",
    "bestBandwidth0 = None\n",
    "bestScore0 = -np.inf\n",
    "for bandwidth in np.linspace(0.1, 5, 100):\n",
    "    kde = KernelDensity(kernel='tophat', bandwidth=bandwidth).fit(x0)\n",
    "    logLikelihood = kde.score_samples(dataTest['L1_S24_F1846'].values.reshape(-1, 1)).sum()\n",
    "    if logLikelihood > bestScore0:\n",
    "        bestScore0 = logLikelihood\n",
    "        bestBandwidth0 = bandwidth\n",
    "\n",
    "# Выделяем значения признака L1_S24_F1846 для класса Response=1\n",
    "x1 = dataTrain[dataTrain['Response'] == 1]['L1_S24_F1846'].values.reshape(-1, 1)\n",
    "\n",
    "# Подбираем наилучшее значение ширины ядра для класса Response=1\n",
    "bestBandwidth1 = None\n",
    "bestScore1 = -np.inf\n",
    "for bandwidth in np.linspace(0.1, 5, 100):\n",
    "    kde = KernelDensity(kernel='tophat', bandwidth=bandwidth).fit(x1)\n",
    "    logLikelihood = kde.score_samples(dataTest['L1_S24_F1846'].values.reshape(-1, 1)).sum()\n",
    "    if logLikelihood > bestScore1:\n",
    "        bestScore1 = logLikelihood\n",
    "       \n"
   ]
  }
 ],
 "metadata": {
  "kernelspec": {
   "display_name": "Python 3 (ipykernel)",
   "language": "python",
   "name": "python3"
  },
  "language_info": {
   "codemirror_mode": {
    "name": "ipython",
    "version": 3
   },
   "file_extension": ".py",
   "mimetype": "text/x-python",
   "name": "python",
   "nbconvert_exporter": "python",
   "pygments_lexer": "ipython3",
   "version": "3.9.13"
  }
 },
 "nbformat": 4,
 "nbformat_minor": 2
}
